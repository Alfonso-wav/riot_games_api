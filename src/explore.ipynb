{
 "cells": [
  {
   "cell_type": "code",
   "execution_count": 6,
   "metadata": {},
   "outputs": [],
   "source": [
    "from dotenv import load_dotenv\n",
    "load_dotenv()\n",
    "\n",
    "import os\n",
    "import requests\n",
    "\n",
    "gameName = 'Txipotle'\n",
    "tagline = 'EUW'\n",
    "api_key = os.environ.get('riot_api_key')\n",
    "region = 'europe'\n",
    "\n",
    "def get_puuid(gameName=None, tagline=None, api_key=None):\n",
    "    \n",
    "    link = f'https://{region}.api.riotgames.com/riot/account/v1/accounts/by-riot-id/{gameName}/{tagline}?api_key={api_key}'\n",
    "\n",
    "    print(link)\n",
    "    \n",
    "    response = requests.get(link)\n",
    "    print(response)\n",
    "    return response.json()['puuid']\n",
    "   "
   ]
  },
  {
   "cell_type": "code",
   "execution_count": 7,
   "metadata": {},
   "outputs": [
    {
     "name": "stdout",
     "output_type": "stream",
     "text": [
      "https://europe.api.riotgames.com/riot/account/v1/accounts/by-riot-id/Txipotle/EUW?api_key=RGAPI-a136d44e-2285-4bf7-a24c-823d11823efc\n",
      "<Response [200]>\n"
     ]
    },
    {
     "data": {
      "text/plain": [
       "'x_WoeBNpnAleO1HWfednujWxGL0VeCXDobnhQpEV97TfL5U_vzEYV0MBF_MbM-EHNQR2uOf-OxpF5g'"
      ]
     },
     "execution_count": 7,
     "metadata": {},
     "output_type": "execute_result"
    }
   ],
   "source": [
    "puuid = get_puuid(gameName=gameName, tagline=tagline, api_key=api_key)\n",
    "puuid"
   ]
  },
  {
   "cell_type": "code",
   "execution_count": 8,
   "metadata": {},
   "outputs": [],
   "source": [
    "def get_match_history(region=None, puuid=None, start=0, count=20):\n",
    "\n",
    "    root_url = f'https://{region}.api.riotgames.com/'\n",
    "    \n",
    "    endpoint = f'lol/match/v5/matches/by-puuid/{puuid}/ids'\n",
    "\n",
    "    query_param = f'?start={start}&count={count}'\n",
    "    response = requests.get(root_url + endpoint + query_param + '&api_key=' + api_key)\n",
    "    print(response)\n",
    "    return response.json()\n",
    "\n",
    "def get_match_data_from_id(region=None, matchId=None):\n",
    "\n",
    "    root_url = f'https://{region}.api.riotgames.com/'\n",
    "    \n",
    "    endpoint = f'lol/match/v5/matches/{matchId}'\n",
    "    response = requests.get(root_url + endpoint + '?api_key=' + api_key)\n",
    "    print(response)\n",
    "    return response.json()"
   ]
  },
  {
   "cell_type": "code",
   "execution_count": 9,
   "metadata": {},
   "outputs": [
    {
     "name": "stdout",
     "output_type": "stream",
     "text": [
      "<Response [200]>\n"
     ]
    }
   ],
   "source": [
    "last_20_matches = get_match_history(region=region, puuid=puuid, start=0, count=20)"
   ]
  },
  {
   "cell_type": "code",
   "execution_count": 13,
   "metadata": {},
   "outputs": [
    {
     "name": "stdout",
     "output_type": "stream",
     "text": [
      "<Response [200]>\n",
      "<Response [200]>\n",
      "<Response [200]>\n",
      "<Response [200]>\n",
      "<Response [200]>\n",
      "<Response [200]>\n",
      "<Response [200]>\n",
      "<Response [200]>\n",
      "<Response [200]>\n",
      "<Response [200]>\n",
      "<Response [200]>\n",
      "<Response [200]>\n",
      "<Response [200]>\n",
      "<Response [200]>\n",
      "<Response [200]>\n",
      "<Response [200]>\n",
      "<Response [200]>\n",
      "<Response [200]>\n",
      "<Response [200]>\n",
      "<Response [200]>\n"
     ]
    }
   ],
   "source": [
    "matches_data = []\n",
    "for m in last_20_matches:\n",
    "    match_data = get_match_data_from_id(region=region, matchId=m)\n",
    "    matches_data.append(match_data)"
   ]
  },
  {
   "cell_type": "code",
   "execution_count": 15,
   "metadata": {},
   "outputs": [],
   "source": [
    "import pandas as pd"
   ]
  },
  {
   "cell_type": "code",
   "execution_count": 20,
   "metadata": {},
   "outputs": [],
   "source": [
    "df = pd.DataFrame(matches_data)"
   ]
  },
  {
   "cell_type": "code",
   "execution_count": 24,
   "metadata": {},
   "outputs": [],
   "source": [
    "df[\"metadata\"]"
   ]
  },
  {
   "cell_type": "code",
   "execution_count": 25,
   "metadata": {},
   "outputs": [],
   "source": []
  },
  {
   "cell_type": "code",
   "execution_count": 26,
   "metadata": {},
   "outputs": [
    {
     "data": {
      "text/html": [
       "<div>\n",
       "<style scoped>\n",
       "    .dataframe tbody tr th:only-of-type {\n",
       "        vertical-align: middle;\n",
       "    }\n",
       "\n",
       "    .dataframe tbody tr th {\n",
       "        vertical-align: top;\n",
       "    }\n",
       "\n",
       "    .dataframe thead th {\n",
       "        text-align: right;\n",
       "    }\n",
       "</style>\n",
       "<table border=\"1\" class=\"dataframe\">\n",
       "  <thead>\n",
       "    <tr style=\"text-align: right;\">\n",
       "      <th></th>\n",
       "      <th>metadata</th>\n",
       "    </tr>\n",
       "  </thead>\n",
       "  <tbody>\n",
       "    <tr>\n",
       "      <th>0</th>\n",
       "      <td>{'dataVersion': '2', 'matchId': 'EUW1_68531222...</td>\n",
       "    </tr>\n",
       "    <tr>\n",
       "      <th>1</th>\n",
       "      <td>{'dataVersion': '2', 'matchId': 'EUW1_68531274...</td>\n",
       "    </tr>\n",
       "    <tr>\n",
       "      <th>2</th>\n",
       "      <td>{'dataVersion': '2', 'matchId': 'EUW1_68531178...</td>\n",
       "    </tr>\n",
       "    <tr>\n",
       "      <th>3</th>\n",
       "      <td>{'dataVersion': '2', 'matchId': 'EUW1_68530782...</td>\n",
       "    </tr>\n",
       "    <tr>\n",
       "      <th>4</th>\n",
       "      <td>{'dataVersion': '2', 'matchId': 'EUW1_68530593...</td>\n",
       "    </tr>\n",
       "    <tr>\n",
       "      <th>5</th>\n",
       "      <td>{'dataVersion': '2', 'matchId': 'EUW1_68522874...</td>\n",
       "    </tr>\n",
       "    <tr>\n",
       "      <th>6</th>\n",
       "      <td>{'dataVersion': '2', 'matchId': 'EUW1_68510575...</td>\n",
       "    </tr>\n",
       "    <tr>\n",
       "      <th>7</th>\n",
       "      <td>{'dataVersion': '2', 'matchId': 'EUW1_68510036...</td>\n",
       "    </tr>\n",
       "    <tr>\n",
       "      <th>8</th>\n",
       "      <td>{'dataVersion': '2', 'matchId': 'EUW1_68509251...</td>\n",
       "    </tr>\n",
       "    <tr>\n",
       "      <th>9</th>\n",
       "      <td>{'dataVersion': '2', 'matchId': 'EUW1_68508608...</td>\n",
       "    </tr>\n",
       "    <tr>\n",
       "      <th>10</th>\n",
       "      <td>{'dataVersion': '2', 'matchId': 'EUW1_68508098...</td>\n",
       "    </tr>\n",
       "    <tr>\n",
       "      <th>11</th>\n",
       "      <td>{'dataVersion': '2', 'matchId': 'EUW1_68505261...</td>\n",
       "    </tr>\n",
       "    <tr>\n",
       "      <th>12</th>\n",
       "      <td>{'dataVersion': '2', 'matchId': 'EUW1_68504511...</td>\n",
       "    </tr>\n",
       "    <tr>\n",
       "      <th>13</th>\n",
       "      <td>{'dataVersion': '2', 'matchId': 'EUW1_68504334...</td>\n",
       "    </tr>\n",
       "    <tr>\n",
       "      <th>14</th>\n",
       "      <td>{'dataVersion': '2', 'matchId': 'EUW1_68503799...</td>\n",
       "    </tr>\n",
       "    <tr>\n",
       "      <th>15</th>\n",
       "      <td>{'dataVersion': '2', 'matchId': 'EUW1_68503234...</td>\n",
       "    </tr>\n",
       "    <tr>\n",
       "      <th>16</th>\n",
       "      <td>{'dataVersion': '2', 'matchId': 'EUW1_68502964...</td>\n",
       "    </tr>\n",
       "    <tr>\n",
       "      <th>17</th>\n",
       "      <td>{'dataVersion': '2', 'matchId': 'EUW1_68483202...</td>\n",
       "    </tr>\n",
       "    <tr>\n",
       "      <th>18</th>\n",
       "      <td>{'dataVersion': '2', 'matchId': 'EUW1_68482930...</td>\n",
       "    </tr>\n",
       "    <tr>\n",
       "      <th>19</th>\n",
       "      <td>{'dataVersion': '2', 'matchId': 'EUW1_68482636...</td>\n",
       "    </tr>\n",
       "  </tbody>\n",
       "</table>\n",
       "</div>"
      ],
      "text/plain": [
       "                                             metadata\n",
       "0   {'dataVersion': '2', 'matchId': 'EUW1_68531222...\n",
       "1   {'dataVersion': '2', 'matchId': 'EUW1_68531274...\n",
       "2   {'dataVersion': '2', 'matchId': 'EUW1_68531178...\n",
       "3   {'dataVersion': '2', 'matchId': 'EUW1_68530782...\n",
       "4   {'dataVersion': '2', 'matchId': 'EUW1_68530593...\n",
       "5   {'dataVersion': '2', 'matchId': 'EUW1_68522874...\n",
       "6   {'dataVersion': '2', 'matchId': 'EUW1_68510575...\n",
       "7   {'dataVersion': '2', 'matchId': 'EUW1_68510036...\n",
       "8   {'dataVersion': '2', 'matchId': 'EUW1_68509251...\n",
       "9   {'dataVersion': '2', 'matchId': 'EUW1_68508608...\n",
       "10  {'dataVersion': '2', 'matchId': 'EUW1_68508098...\n",
       "11  {'dataVersion': '2', 'matchId': 'EUW1_68505261...\n",
       "12  {'dataVersion': '2', 'matchId': 'EUW1_68504511...\n",
       "13  {'dataVersion': '2', 'matchId': 'EUW1_68504334...\n",
       "14  {'dataVersion': '2', 'matchId': 'EUW1_68503799...\n",
       "15  {'dataVersion': '2', 'matchId': 'EUW1_68503234...\n",
       "16  {'dataVersion': '2', 'matchId': 'EUW1_68502964...\n",
       "17  {'dataVersion': '2', 'matchId': 'EUW1_68483202...\n",
       "18  {'dataVersion': '2', 'matchId': 'EUW1_68482930...\n",
       "19  {'dataVersion': '2', 'matchId': 'EUW1_68482636..."
      ]
     },
     "execution_count": 26,
     "metadata": {},
     "output_type": "execute_result"
    }
   ],
   "source": []
  },
  {
   "cell_type": "code",
   "execution_count": null,
   "metadata": {},
   "outputs": [],
   "source": []
  }
 ],
 "metadata": {
  "kernelspec": {
   "display_name": "Python 3",
   "language": "python",
   "name": "python3"
  },
  "language_info": {
   "codemirror_mode": {
    "name": "ipython",
    "version": 3
   },
   "file_extension": ".py",
   "mimetype": "text/x-python",
   "name": "python",
   "nbconvert_exporter": "python",
   "pygments_lexer": "ipython3",
   "version": "3.12.2"
  }
 },
 "nbformat": 4,
 "nbformat_minor": 2
}
